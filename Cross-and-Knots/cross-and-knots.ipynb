{
 "cells": [
  {
   "cell_type": "markdown",
   "metadata": {},
   "source": [
    "print out a board"
   ]
  },
  {
   "cell_type": "code",
   "execution_count": 6,
   "metadata": {},
   "outputs": [],
   "source": [
    "from IPython.display import clear_output\n",
    "\n",
    "def display_board(board):\n",
    "    print(\"{} | {} | {} \\n---------- \\n{} | {} | {} \\n---------- \\n{} | {} | {} \\n\".format(board[0], board[1],board[2],board[3],board[4], board[5],board[6],board[7],board[8] ) )"
   ]
  },
  {
   "cell_type": "code",
   "execution_count": 7,
   "metadata": {},
   "outputs": [
    {
     "name": "stdout",
     "output_type": "stream",
     "text": [
      "# | X | O \n",
      "---------- \n",
      "X | O | X \n",
      "---------- \n",
      "O | X | O \n",
      "\n"
     ]
    }
   ],
   "source": [
    "test_board = ['#','X','O','X','O','X','O','X','O','X']\n",
    "display_board(test_board)"
   ]
  },
  {
   "cell_type": "markdown",
   "metadata": {},
   "source": [
    "make sure it returns the desired output"
   ]
  },
  {
   "cell_type": "code",
   "execution_count": 8,
   "metadata": {},
   "outputs": [],
   "source": [
    "def player_input():\n",
    "    pin1=\"\"\n",
    "    while not (pin1==\"X\" or pin1==\"O\"):\n",
    "        pin1 = input(\"Player1: Please pick a marker 'X' or 'O': \").upper()\n",
    "    if pin1 ==\"X\":\n",
    "        return([\"X\",\"O\"])\n",
    "    else:\n",
    "        return ([\"O\", \"X\"])\n",
    "        "
   ]
  },
  {
   "cell_type": "code",
   "execution_count": null,
   "metadata": {},
   "outputs": [],
   "source": [
    "player_input()"
   ]
  },
  {
   "cell_type": "markdown",
   "metadata": {},
   "source": [
    "assigns desired position to the board "
   ]
  },
  {
   "cell_type": "code",
   "execution_count": null,
   "metadata": {},
   "outputs": [],
   "source": [
    "def place_marker(board, marker, position):\n",
    "    board[position]=marker"
   ]
  },
  {
   "cell_type": "code",
   "execution_count": null,
   "metadata": {},
   "outputs": [],
   "source": [
    "place_marker(test_board,'$',8)\n",
    "display_board(test_board)"
   ]
  },
  {
   "cell_type": "markdown",
   "metadata": {},
   "source": [
    "Checks if someone has won or not"
   ]
  },
  {
   "cell_type": "code",
   "execution_count": null,
   "metadata": {},
   "outputs": [],
   "source": [
    "def win_check(board, mark):\n",
    "    if (board[0]==mark and board[1]==mark) and board[2]==mark:\n",
    "        return('You have won!')\n",
    "    elif (board[3]==mark and board[4]==mark) and board[5]==mark:\n",
    "         return('You have won!')\n",
    "    elif (board[6]==mark and board[7]==mark) and board[8]==mark:\n",
    "         return('You have won!')\n",
    "    elif (board[0]==mark and board[4]==mark) and board[8]==mark:\n",
    "        return('You have won!')\n",
    "    elif (board[2]==mark and board[4]==mark) and board[6]==mark:\n",
    "        return('You have won!')\n",
    "    else:\n",
    "        return('No wins!')"
   ]
  },
  {
   "cell_type": "code",
   "execution_count": null,
   "metadata": {},
   "outputs": [],
   "source": [
    "win_check(test_board,'X')"
   ]
  },
  {
   "cell_type": "markdown",
   "metadata": {},
   "source": [
    "Decides which player goes first"
   ]
  },
  {
   "cell_type": "code",
   "execution_count": null,
   "metadata": {},
   "outputs": [],
   "source": [
    "import random\n",
    "\n",
    "def choose_first():\n",
    "    if random.randint(0,1)==0:\n",
    "        return \"Player 1\"\n",
    "    else:\n",
    "        return \"Player 2\""
   ]
  },
  {
   "cell_type": "markdown",
   "metadata": {},
   "source": [
    "Check whether at the given position the board is empty or not"
   ]
  },
  {
   "cell_type": "code",
   "execution_count": null,
   "metadata": {},
   "outputs": [],
   "source": [
    "def space_check(board, position):\n",
    "    return board[position]==\" \""
   ]
  },
  {
   "cell_type": "markdown",
   "metadata": {},
   "source": [
    "Checks whether the board is empty or not"
   ]
  },
  {
   "cell_type": "code",
   "execution_count": null,
   "metadata": {},
   "outputs": [],
   "source": [
    "def full_board_check(board):\n",
    "    for i in range(0,10):\n",
    "        if space_check(board, i):\n",
    "            return False\n",
    "        else:\n",
    "            return True"
   ]
  },
  {
   "cell_type": "markdown",
   "metadata": {},
   "source": [
    "Asks for players next posiiton"
   ]
  },
  {
   "cell_type": "code",
   "execution_count": null,
   "metadata": {},
   "outputs": [],
   "source": [
    "def player_choice(board):\n",
    "    position = int(input('Please enter a number (0 to 8): '))\n",
    "    if space_check(board, position):\n",
    "        return position\n",
    "    else:\n",
    "        return 10"
   ]
  },
  {
   "cell_type": "markdown",
   "metadata": {},
   "source": [
    "Asks players if they want to play again or not"
   ]
  },
  {
   "cell_type": "code",
   "execution_count": null,
   "metadata": {},
   "outputs": [],
   "source": [
    "def replay():\n",
    "        return input(\"Do you want to play again?\").lower()"
   ]
  },
  {
   "cell_type": "markdown",
   "metadata": {},
   "source": [
    "The game "
   ]
  },
  {
   "cell_type": "code",
   "execution_count": null,
   "metadata": {},
   "outputs": [],
   "source": [
    "print('Welcome to Tic Tac Toe!')\n",
    "\n",
    "while True:\n",
    "    Themainboard=[\" \"]*9\n",
    "    display_board(Themainboard)\n",
    "    playerinfo = player_input()\n",
    "    player_1 = playerinfo[0]\n",
    "    player_2 = playerinfo[1]\n",
    "    turn= choose_first()\n",
    "    print(turn+\" will go first\")\n",
    "    \n",
    "    play_game= input(\"Ready?\".lower())\n",
    "    \n",
    "    if play_game=='yes':\n",
    "        game_on=True\n",
    "    else :\n",
    "        game_on=False\n",
    "\n",
    "    while game_on:\n",
    "        if turn==\"Player 1\":\n",
    "        \n",
    "            display_board(Themainboard)\n",
    "            position=player_choice(Themainboard)\n",
    "            place_marker(Themainboard, player_1, position)\n",
    "\n",
    "            if win_check(Themainboard, player_1):\n",
    "                display_board(Themainboard)\n",
    "                print('Congratulations! You have won the game!')\n",
    "                game_on = False\n",
    "            else:\n",
    "                if full_board_check(Themainboard):\n",
    "                    display_board(Themainboard)\n",
    "                    print('The game is a draw!')\n",
    "                    break\n",
    "                else:\n",
    "                    turn = 'Player 2'\n",
    "\n",
    "        else:\n",
    "            # Player2's turn.\n",
    "            \n",
    "            display_board(Themainboard)\n",
    "            position = player_choice(Themainboard)\n",
    "            place_marker(Themainboard, player_2, position)\n",
    "\n",
    "            if win_check(Themainboard, player_2):\n",
    "                display_board(Themainboard)\n",
    "                print('Player 2 has won!')\n",
    "                game_on = False\n",
    "            else:\n",
    "                if full_board_check(Themainboard):\n",
    "                    display_board(Themainboard)\n",
    "                    print('The game is a draw!')\n",
    "                    break\n",
    "                else:\n",
    "                    turn = 'Player 1'\n",
    "\n",
    "\n",
    "    if not replay()=='yes':\n",
    "        break"
   ]
  },
  {
   "cell_type": "code",
   "execution_count": null,
   "metadata": {},
   "outputs": [],
   "source": []
  }
 ],
 "metadata": {
  "kernelspec": {
   "display_name": "Python 3",
   "language": "python",
   "name": "python3"
  }
 },
 "nbformat": 4,
 "nbformat_minor": 2
}
